#input thư viện đọc và tính toán dữ liệu
import pandas as pd
import numpy as np
#input thư viện trực quan hóa dữ liệu
import seaborn as sns
import matplotlib.pyplot as plt
#input thư viện dạy và học mô hình
from sklearn.linear_model import LinearRegression
from sklearn.linear_model import LogisticRegression
from sklearn.metrics import mean_squared_error

path = ("C:\\Users\\luonglv\\Documents\\github\\train_ict.xlsx")
df = pd.read_excel(path)
df.head()
